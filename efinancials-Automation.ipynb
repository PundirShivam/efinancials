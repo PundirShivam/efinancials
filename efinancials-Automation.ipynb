{
 "cells": [
  {
   "cell_type": "code",
   "execution_count": 1,
   "id": "a31983cd",
   "metadata": {},
   "outputs": [],
   "source": [
    "import selenium\n",
    "import numpy as np\n",
    "import pandas as pd\n",
    "from selenium import webdriver\n",
    "from selenium.webdriver.common.by import By\n",
    "from selenium.webdriver.support.ui import WebDriverWait\n",
    "from selenium.webdriver.support import expected_conditions as EC\n",
    "import os\n",
    "import time\n",
    "from bs4 import BeautifulSoup\n",
    "import selenium.webdriver.support.ui as ui\n",
    "from selenium.webdriver.common.keys import Keys\n",
    "from selenium.webdriver.support.ui import Select\n",
    "from selenium.webdriver.common.action_chains import ActionChains\n",
    "from selenium.webdriver.common.by import By"
   ]
  },
  {
   "cell_type": "code",
   "execution_count": 2,
   "id": "e665ca10",
   "metadata": {},
   "outputs": [],
   "source": [
    "os.chdir(r'C:\\Users\\shivampundir\\Downloads\\linkedin\\chromedriver-win64')"
   ]
  },
  {
   "cell_type": "code",
   "execution_count": 5,
   "id": "a39f9c21",
   "metadata": {},
   "outputs": [],
   "source": [
    "# browser = webdriver.Chrome()\n",
    "browser = webdriver.Chrome()"
   ]
  },
  {
   "cell_type": "code",
   "execution_count": 8,
   "id": "be6b902d",
   "metadata": {},
   "outputs": [],
   "source": [
    "browser.get('https://www.efinancialcareers.co.uk/login')\n",
    "\n",
    "time.sleep(2)\n",
    "browser.find_element(by='id',value='email').send_keys('spundir.london@gmail.com')\n",
    "browser.find_element(by='id',value='password').send_keys('xsq4gn6E5K6jKyP')\n",
    "\n",
    "sign_in_button = browser.find_element(By.CSS_SELECTOR, \"#myEfcUserCredentialsForm > button\")\n",
    "sign_in_button.click()"
   ]
  },
  {
   "cell_type": "code",
   "execution_count": 40,
   "id": "dfc30637",
   "metadata": {},
   "outputs": [],
   "source": [
    "urls = pd.read_csv(R\"C:\\Users\\shivampundir\\Downloads\\linkedin\\efinancials\\python_urls.csv\")['jobUrl'].drop_duplicates().tolist()"
   ]
  },
  {
   "cell_type": "code",
   "execution_count": null,
   "id": "a0ef8e8f",
   "metadata": {},
   "outputs": [],
   "source": [
    "# df = pd.read_clipboard()\n",
    "\n",
    "# urls = df['job_url'].tolist()"
   ]
  },
  {
   "cell_type": "code",
   "execution_count": 54,
   "id": "2d6db3de",
   "metadata": {},
   "outputs": [
    {
     "name": "stdout",
     "output_type": "stream",
     "text": [
      "1 https://www.efinancialcareers.co.uk/jobs-UK-London-GraduateJunior_-_Valuations_-_Equity_Derivatives_-_Tier_1_Bank.id20086392 Closed, skipping it\n",
      "2 https://www.efinancialcareers.co.uk/jobs-UK-London-Associate_-_Portfolio_Solutions.id20862969 Closed, skipping it\n",
      "3 https://www.efinancialcareers.co.uk/jobs-UK-London-Senior_Gen_AI_Software_Engineer_-_PythonPolyglotEsoteric.id20853865 Closed, skipping it\n",
      "4 https://www.efinancialcareers.co.uk/jobs-UK-London-Computer_Science_Graduate1_year_Python_Developer__Elite_Hedge_FundBaseBonus__London_hydrid.id20932906 Closed, skipping it\n",
      "5 https://www.efinancialcareers.co.uk/jobs-UK-London-Software_Engineer_Python.id20925598 applied!\n",
      "6 https://www.efinancialcareers.co.uk/jobs-UK-London-Full_Stack_Software_Engineer_Python.id20925597 applied!\n",
      "7 https://www.efinancialcareers.co.uk/jobs-UK-London-Senior_Python_Engineer.id20831392 applied!\n",
      "8 https://www.efinancialcareers.co.uk/jobs-UK-London-Senior_Python_Quant_Developer_-_London-_Systematic_Trading.id20505036 Closed, skipping it\n",
      "9 https://www.efinancialcareers.co.uk/jobs-UK-London-Quantitative_Developer_C_Python_-_London-_World-Leading_Hedge_Fund.id20370293 Closed, skipping it\n",
      "10 https://www.efinancialcareers.co.uk/jobs-UK-London-Senior_Python_Engineer_-_PM_Tools-_Leading_Global_Hedge_Fund.id20594696 Closed, skipping it\n",
      "11 https://www.efinancialcareers.co.uk/jobs-UK-London-Software_Engineer_Python_-_Portfolio_Manager_Tools-_Leading_Global_Hedge_Fund.id20594699 Closed, skipping it\n",
      "12 https://www.efinancialcareers.co.uk/jobs-UK-London-Quant_Developer_PythonC_-_Model_Implementation_-_New_York_OR_London-_Global_Hedge_Fund.id20777639 Closed, skipping it\n",
      "13 https://www.efinancialcareers.co.uk/jobs-UK-London-Python_Quant_Researcher_-_Trading_Pod_-_Hedge_Fund-_Global_Hedge_Fund.id20424508 Closed, skipping it\n",
      "14 https://www.efinancialcareers.co.uk/jobs-UK-London-Python_Quantitative_Developer-_Systematic_Trading.id20424509 Closed, skipping it\n",
      "15 https://www.efinancialcareers.co.uk/jobs-UK-London-Quant_Developer_-_Python_C__C_-_London-_Quant_Trading_Firm.id20366504 Closed, skipping it\n",
      "16 https://www.efinancialcareers.co.uk/jobs-UK-London-Quant_Developer_-_Python_C__C_-_London-_Systematic_Quant_Hedge_Fund_Manager.id20366505 Closed, skipping it\n",
      "17 https://www.efinancialcareers.co.uk/jobs-UK-London-Senior_Python_Engineer-_Tech-Driven_Prop_Trading_Firm.id20590496 Closed, skipping it\n",
      "18 https://www.efinancialcareers.co.uk/jobs-UK-London-Hands-On_Team_Lead_Python-_World-Leading_Hedge_Fund.id20719089 Closed, skipping it\n",
      "19 https://www.efinancialcareers.co.uk/jobs-UK-London-Python_ML_Engineer-_Tech-Driven_Global_Hedge_Fund.id20719094 Closed, skipping it\n",
      "20 https://www.efinancialcareers.co.uk/jobs-UK-London-Quant_Developer_PythonC_-_Model_Implementation_-_London-_Global_Hedge_Fund.id20755591 applied!\n",
      "21 https://www.efinancialcareers.co.uk/jobs-UK-London-Python_Engineer-_Global_Quant_Firm.id20814012 Closed, skipping it\n",
      "22 https://www.efinancialcareers.co.uk/jobs-UK-London-PythonGO_Engineer-_Leading_Quant-Driven_Market-Maker.id20814013 Closed, skipping it\n",
      "23 https://www.efinancialcareers.co.uk/jobs-UK-London-HFT_Build-out_for_Python_Quant_Developer-_Multi-Asset_Class_Systematic_Trading.id20436065 Closed, skipping it\n",
      "24 https://www.efinancialcareers.co.uk/jobs-UK-London-Python_Software_Developer_Risk_-_London-_Systematic_Quant_Fund.id20361371 Closed, skipping it\n",
      "25 https://www.efinancialcareers.co.uk/jobs-UK-London-Python_Developer_RAD_-_Fixed_Income-_Top-tier_Global_Hedge_Fund.id20752009 Closed, skipping it\n",
      "26 https://www.efinancialcareers.co.uk/jobs-UK-London-Python_Developer_Tools_Engineer-_World-Leading_Prop_Trading_Fund.id20434186 Closed, skipping it\n",
      "27 https://www.efinancialcareers.co.uk/jobs-UK-London-Python_Core_Developer-_Hedge_Fund_trading_team.id20445202 Closed, skipping it\n",
      "28 https://www.efinancialcareers.co.uk/jobs-UK-London-Python_Quant_Developer-_Hedge_Fund_trading_team.id20445203 Closed, skipping it\n",
      "29 https://www.efinancialcareers.co.uk/jobs-UK-London-Senior_Python_Engineer_-_Portfolio_Management_Tools-_Leading_Global_Hedge_Fund.id20456102 Closed, skipping it\n",
      "30 https://www.efinancialcareers.co.uk/jobs-UK-London-Quant_Developer_Python-_Tech-Driven_Global_Hedge_Fund.id20421331 Closed, skipping it\n",
      "31 https://www.efinancialcareers.co.uk/jobs-UK-London-Quant_Researcher_-_C__Python-_Global_Hedge_Fund.id20421337 Closed, skipping it\n",
      "32 https://www.efinancialcareers.co.uk/jobs-UK-London-Python_Engineer_-_Market_Data-_Tech-Driven_Global_Hedge_Fund.id20916197 Closed, skipping it\n",
      "33 https://www.efinancialcareers.co.uk/jobs-UK-London-Python_Software_Engineer-_Prop_Market_Maker.id20629953 Closed, skipping it\n",
      "34 https://www.efinancialcareers.co.uk/jobs-UK-London-Python_Developer_-_Risk-_Leading_Global_Quant__Systematic_IM.id20431679 Closed, skipping it\n",
      "35 https://www.efinancialcareers.co.uk/jobs-UK-London-Quant_Developer_PythonC-_Global_Hedge_Fund.id20492237 Closed, skipping it\n",
      "36 https://www.efinancialcareers.co.uk/jobs-UK-London-Python_Software_Developer_Risk-_Systematic_Quant_Fund.id20492241 Closed, skipping it\n",
      "37 https://www.efinancialcareers.co.uk/jobs-UK-London-Algo_Software_Engineer_CPython-_Tech_Driven_Algorithmic_Fund.id20729386 Closed, skipping it\n",
      "38 https://www.efinancialcareers.co.uk/jobs-UK-London-Software_Developer_C_and_Python-_Global_Hedge_Fund.id20657365 Closed, skipping it\n",
      "39 https://www.efinancialcareers.co.uk/jobs-UK-London-Research_Engineer_Python_-_Hybrid-_Tech-Driven_Quant_Trading_Firm.id20406481 Closed, skipping it\n",
      "40 https://www.efinancialcareers.co.uk/jobs-UK-London-Software_Developer_-_Data_Pipelines_Python-_Global_Investment_Management.id20722739 Closed, skipping it\n",
      "41 https://www.efinancialcareers.co.uk/jobs-UK-London-CPython_Quant_Developer_-_Risk_Platform_-_LondonNew_York-_Market-Leading_Global_Hedge_Fund.id20803469 Closed, skipping it\n",
      "42 https://www.efinancialcareers.co.uk/jobs-UK-London-Quantitative_Developer_-_Systematic_Hedge_Fund_-_Macro__Commodities_Desks.id20261976 Applied, skipping it\n"
     ]
    }
   ],
   "source": [
    "for counter,url in enumerate(urls[6:]):\n",
    "    browser.get(url)\n",
    "    time.sleep(2)\n",
    "    \n",
    "    try:\n",
    "        is_applied = browser.find_element(By.CLASS_NAME,'btn.btn-outline.btn-small.ng-star-inserted')\n",
    "        if is_applied.get_property('innerText') in ['Applied','Closed']:\n",
    "            print(f'{counter+1} {url} {is_applied.get_property(\"innerText\")}, skipping it')\n",
    "            continue\n",
    "    except:\n",
    "        pass\n",
    "    apply_button_1 = WebDriverWait(browser, 10).until(\n",
    "    EC.element_to_be_clickable((By.XPATH, \"//button[contains(@class, 'btn-primary')]\")))\n",
    "    apply_button_1.click()\n",
    "    \n",
    "    apply_button_2 = button_element = WebDriverWait(browser, 10).until(\n",
    "    EC.element_to_be_clickable((By.CSS_SELECTOR, \"button[data-gtm-trackable='submit-job-application']\")))\n",
    "    apply_button_2.click()\n",
    "    \n",
    "    print(f'{counter+1} {url} applied!')    "
   ]
  },
  {
   "cell_type": "code",
   "execution_count": null,
   "id": "a4dd1717",
   "metadata": {},
   "outputs": [],
   "source": []
  }
 ],
 "metadata": {
  "kernelspec": {
   "display_name": "Python 3 (ipykernel)",
   "language": "python",
   "name": "python3"
  },
  "language_info": {
   "codemirror_mode": {
    "name": "ipython",
    "version": 3
   },
   "file_extension": ".py",
   "mimetype": "text/x-python",
   "name": "python",
   "nbconvert_exporter": "python",
   "pygments_lexer": "ipython3",
   "version": "3.9.7"
  }
 },
 "nbformat": 4,
 "nbformat_minor": 5
}
